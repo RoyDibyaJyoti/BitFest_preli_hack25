{
 "cells": [
  {
   "cell_type": "code",
   "execution_count": 1,
   "id": "58d9a8f2-8528-4501-804e-f50805c56c36",
   "metadata": {},
   "outputs": [
    {
     "name": "stdout",
     "output_type": "stream",
     "text": [
      "DatasetDict({\n",
      "    train: Dataset({\n",
      "        features: ['bn', 'rm'],\n",
      "        num_rows: 5006\n",
      "    })\n",
      "})\n"
     ]
    }
   ],
   "source": [
    "from datasets import load_dataset\n",
    "\n",
    "# Load the dataset from Hugging Face\n",
    "dataset = load_dataset(\"SKNahin/bengali-transliteration-data\")\n",
    "\n",
    "# Inspect the dataset structure\n",
    "print(dataset)\n"
   ]
  },
  {
   "cell_type": "code",
   "execution_count": 2,
   "id": "909416ee-4241-4b7d-882d-3b5f7e0b7fa8",
   "metadata": {},
   "outputs": [
    {
     "name": "stdout",
     "output_type": "stream",
     "text": [
      "Training set size: 4505\n",
      "Validation set size: 501\n"
     ]
    }
   ],
   "source": [
    "train_test_split = dataset[\"train\"].train_test_split(test_size=0.1)\n",
    "train_dataset = train_test_split[\"train\"]\n",
    "valid_dataset = train_test_split[\"test\"]\n",
    "\n",
    "# Print the sizes of the splits\n",
    "print(f\"Training set size: {len(train_dataset)}\")\n",
    "print(f\"Validation set size: {len(valid_dataset)}\")\n"
   ]
  },
  {
   "cell_type": "code",
   "execution_count": 3,
   "id": "691d716d-3b2e-4838-aa07-14d1bf38e875",
   "metadata": {},
   "outputs": [
    {
     "name": "stdout",
     "output_type": "stream",
     "text": [
      "{'input_ids': tensor([[  5263,  74126,     53,   1756,  15559,      2, 250004]]), 'attention_mask': tensor([[1, 1, 1, 1, 1, 1, 1]])}\n"
     ]
    }
   ],
   "source": [
    "from transformers import AutoTokenizer\n",
    "\n",
    "# Load the tokenizer for mBART (multi-lingual model)\n",
    "tokenizer = AutoTokenizer.from_pretrained(\"facebook/mbart-large-cc25\")\n",
    "\n",
    "# Test the tokenizer with a sample text\n",
    "sample_text = \"ami banglay gan gai\"\n",
    "tokenized = tokenizer(sample_text, return_tensors=\"pt\")\n",
    "print(tokenized)\n"
   ]
  },
  {
   "cell_type": "code",
   "execution_count": 9,
   "id": "07c2d898-af4d-4d3c-a043-d4d5c132113f",
   "metadata": {},
   "outputs": [],
   "source": [
    "# Set the target language\n",
    "tokenizer.tgt_lang = \"bn_IN\"\n",
    "\n",
    "def preprocess_function(examples):\n",
    "    return tokenizer(\n",
    "        examples[\"rm\"],          # Romanized Banglish text\n",
    "        text_target=examples[\"bn\"],  # Bengali script\n",
    "        truncation=True,         # Truncate to max length\n",
    "        max_length=128           # Add a maximum token length\n",
    "    )\n"
   ]
  },
  {
   "cell_type": "code",
   "execution_count": 10,
   "id": "e6238fa8-c9b7-4e23-bdfc-2e530482eb9b",
   "metadata": {},
   "outputs": [
    {
     "data": {
      "application/vnd.jupyter.widget-view+json": {
       "model_id": "466dd084165a4930ad760489dcf6afec",
       "version_major": 2,
       "version_minor": 0
      },
      "text/plain": [
       "Map:   0%|          | 0/4505 [00:00<?, ? examples/s]"
      ]
     },
     "metadata": {},
     "output_type": "display_data"
    },
    {
     "data": {
      "application/vnd.jupyter.widget-view+json": {
       "model_id": "51053b640d2d4815a9583407129372ec",
       "version_major": 2,
       "version_minor": 0
      },
      "text/plain": [
       "Map:   0%|          | 0/501 [00:00<?, ? examples/s]"
      ]
     },
     "metadata": {},
     "output_type": "display_data"
    },
    {
     "name": "stdout",
     "output_type": "stream",
     "text": [
      "{'bn': 'আমি ট্রাই করবো।কাজ করলে ভালো।থ্যাংকস।', 'rm': 'Ami try korbo.kaj korle valo.Thanks.', 'input_ids': [25472, 9790, 4181, 837, 5, 20103, 4181, 133, 32391, 5, 188774, 7, 5, 2, 250004], 'attention_mask': [1, 1, 1, 1, 1, 1, 1, 1, 1, 1, 1, 1, 1, 1, 1], 'labels': [21145, 125931, 35312, 172954, 9445, 125, 13504, 8276, 112592, 53997, 125, 19293, 14329, 130180, 3458, 125, 2, 3]}\n"
     ]
    }
   ],
   "source": [
    "train_tokenized = train_dataset.map(preprocess_function, batched=True)\n",
    "valid_tokenized = valid_dataset.map(preprocess_function, batched=True)\n",
    "\n",
    "# Check a sample from the tokenized dataset\n",
    "print(train_tokenized[0])\n"
   ]
  },
  {
   "cell_type": "code",
   "execution_count": null,
   "id": "3a241208-482a-4093-b141-6d022385917b",
   "metadata": {},
   "outputs": [],
   "source": []
  }
 ],
 "metadata": {
  "kernelspec": {
   "display_name": "Python 3 (ipykernel)",
   "language": "python",
   "name": "python3"
  },
  "language_info": {
   "codemirror_mode": {
    "name": "ipython",
    "version": 3
   },
   "file_extension": ".py",
   "mimetype": "text/x-python",
   "name": "python",
   "nbconvert_exporter": "python",
   "pygments_lexer": "ipython3",
   "version": "3.12.6"
  }
 },
 "nbformat": 4,
 "nbformat_minor": 5
}
